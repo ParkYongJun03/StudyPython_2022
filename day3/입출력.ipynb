{
 "cells": [
  {
   "cell_type": "markdown",
   "metadata": {},
   "source": [
    "## 입출력, 파일입출력\n",
    "\n",
    "1.화면 입출력"
   ]
  },
  {
   "cell_type": "code",
   "execution_count": 5,
   "metadata": {},
   "outputs": [
    {
     "name": "stdout",
     "output_type": "stream",
     "text": [
      "7\n",
      "8.5\n"
     ]
    }
   ],
   "source": [
    "# 기본 화면 입출력\n",
    "a = input('숫자를 입력하세요 : ')\n",
    "a = int(a)\n",
    "print(a+4)\n",
    "\n",
    "b = input('숫자를 입력하세요 : ')\n",
    "b = float(b)\n",
    "print(b+4.4)\n"
   ]
  },
  {
   "cell_type": "code",
   "execution_count": 11,
   "metadata": {},
   "outputs": [
    {
     "name": "stdout",
     "output_type": "stream",
     "text": [
      "Life is short, You need Python\n",
      "108\n",
      "[0, 100, 200, 300, 400, 500, 600, 700, 800, 900, 1000, 1100, 1200, 1300, 1400, 1500, 1600, 1700, 1800, 1900, 2000, 2100, 2200, 2300, 2400, 2500, 2600, 2700, 2800, 2900, 3000, 3100, 3200, 3300, 3400, 3500, 3600, 3700]\n",
      "Lifeisshort\n",
      "Lifeisshort\n",
      "Lifeisshort\n"
     ]
    }
   ],
   "source": [
    "# 기본 화면 출력\n",
    "b = 'Life is short, You need Python'\n",
    "print(b)\n",
    "b = 108\n",
    "print(b)\n",
    "b = [i for i in range(0, 3750, 100)]\n",
    "print(b)\n",
    "\n",
    "print('Life' 'is' 'short')\n",
    "print(\"Life\" \"is\" \"short\") #거의 사용 안 함\n",
    "\n",
    "print('Life' + 'is' + 'short') # 문자열 결합 (concatnate) + 연산자"
   ]
  },
  {
   "cell_type": "code",
   "execution_count": 13,
   "metadata": {},
   "outputs": [
    {
     "name": "stdout",
     "output_type": "stream",
     "text": [
      "1 2 3 4 "
     ]
    }
   ],
   "source": [
    "a=[1, 2, 3, 4]\n",
    "for i in a:\n",
    "    print(i, end=\" \")"
   ]
  },
  {
   "cell_type": "code",
   "execution_count": 14,
   "metadata": {},
   "outputs": [
    {
     "name": "stdout",
     "output_type": "stream",
     "text": [
      "Hello\n",
      "Friends\n"
     ]
    }
   ],
   "source": [
    "# 다중값  입력\n",
    "(x, y) =input ('두개의 영어 단어를 입력하세요').split()\n",
    "print(x)\n",
    "print(y)"
   ]
  },
  {
   "cell_type": "code",
   "execution_count": 15,
   "metadata": {},
   "outputs": [
    {
     "name": "stdout",
     "output_type": "stream",
     "text": [
      "80\n"
     ]
    }
   ],
   "source": [
    "# 다중값  입력\n",
    "(x, y) =input ('두 개 정수를 입력하세요(구분자 ,)').split(',')\n",
    "print((int(x) * int(y)))"
   ]
  },
  {
   "cell_type": "code",
   "execution_count": 37,
   "metadata": {},
   "outputs": [
    {
     "name": "stdout",
     "output_type": "stream",
     "text": [
      "hello\n",
      "wrold\n",
      "asd~!\"\\ \\\fas\n"
     ]
    }
   ],
   "source": [
    "# Escape Character(탈출문자, 특수문자)\n",
    "test_str = \"hello\\nwrold\\n\\tHi~!\\\"\\\\ \\t\\b\\\\\\fas\\rasd\"\n",
    "print(test_str)"
   ]
  },
  {
   "cell_type": "code",
   "execution_count": 3,
   "metadata": {},
   "outputs": [
    {
     "name": "stdout",
     "output_type": "stream",
     "text": [
      "저는, 박용준이고,    20대 후반입니다.\n",
      "저는, 박용준이고,    20대 후반입니다.\n",
      "저는, 박용준이고,    20대 후반입니다.\n"
     ]
    }
   ],
   "source": [
    "#문자열 포맷팅\n",
    "#구시대 방법\n",
    "print('%s는, %s이고, %5s대 %s입니다.' %('저', '박용준', '20', '후반'))\n",
    "#신식 방법 1\n",
    "print('{0}는, {1}이고, {2:>5}대 {3}입니다.' .format('저', '박용준', '20', '후반'))\n",
    "print(f'{\"저\"}는, {\"박용준\"}이고, {20:>5}대 {\"후반\"}입니다.')"
   ]
  },
  {
   "cell_type": "markdown",
   "metadata": {},
   "source": [
    "2, 파일 입출력"
   ]
  },
  {
   "cell_type": "code",
   "execution_count": 6,
   "metadata": {},
   "outputs": [],
   "source": [
    "#파일 출력 ! 파일은 열면 무조건 닫아야한다.\n",
    "file = open('sample.txt', mode='w', encoding='utf-8') # 파일 열기\n",
    "#file = open('sample.txt', mode='a', encoding='utf-8') # mode a 이면 원래 파일에 추가한다.\n",
    "\n",
    "file.write('안녕하세요 파이썬 학습중입니다.\\n')\n",
    "file.write('두번째 줄 시작입니다.\\n')\n",
    "file.write('세번째 줄 시작입니다.\\n')\n",
    "file.close() # 파일 닫기"
   ]
  },
  {
   "cell_type": "code",
   "execution_count": 11,
   "metadata": {},
   "outputs": [
    {
     "name": "stdout",
     "output_type": "stream",
     "text": [
      "안녕하세요 파이썬 학습중입니다.\n",
      "두번째 줄 시작입니다.\n",
      "세번째 줄 시작입니다.\n",
      "\n"
     ]
    }
   ],
   "source": [
    "#파일 입력\n",
    "\n",
    "fr = open('sample.txt', mode='r', encoding='utf-8')\n",
    "text = fr.read() # 한번에 다 읽는것\n",
    "fr.close()\n",
    "print(text)"
   ]
  },
  {
   "cell_type": "code",
   "execution_count": 13,
   "metadata": {},
   "outputs": [
    {
     "name": "stdout",
     "output_type": "stream",
     "text": [
      "안녕하세요 파이썬 학습중입니다.\n",
      "두번째 줄 시작입니다.\n",
      "세번째 줄 시작입니다.\n"
     ]
    }
   ],
   "source": [
    "#파일 읽기 한줄씩 읽어오기 (일반적)\n",
    "fr = open('sample.txt', mode='r', encoding='utf-8')\n",
    "while True:\n",
    "    line = fr.readline() # 한줄씩 읽기\n",
    "    if not line: break\n",
    "    print(line, end='')\n",
    "fr.close()"
   ]
  }
 ],
 "metadata": {
  "interpreter": {
   "hash": "d6fb8f5c2505c6cc35af1f69b397e2fc6af01372fc43367b4d36c7a6097785be"
  },
  "kernelspec": {
   "display_name": "Python 3.10.4 64-bit",
   "language": "python",
   "name": "python3"
  },
  "language_info": {
   "codemirror_mode": {
    "name": "ipython",
    "version": 3
   },
   "file_extension": ".py",
   "mimetype": "text/x-python",
   "name": "python",
   "nbconvert_exporter": "python",
   "pygments_lexer": "ipython3",
   "version": "3.10.4"
  },
  "orig_nbformat": 4
 },
 "nbformat": 4,
 "nbformat_minor": 2
}
