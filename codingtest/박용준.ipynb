{
 "cells": [
  {
   "cell_type": "markdown",
   "metadata": {},
   "source": [
    "## 1번문제\n",
    "\n",
    "1. 반지름 값을 입력받아 원의 넓이를 구하여 출력하는 프로그램을 구현하세요. 파이는 3.141592 입니다."
   ]
  },
  {
   "cell_type": "code",
   "execution_count": 4,
   "metadata": {},
   "outputs": [
    {
     "name": "stdout",
     "output_type": "stream",
     "text": [
      "반지름 10.0인 원의 넓이는 314.1592653589793입니다.\n"
     ]
    }
   ],
   "source": [
    "#1번 문제\n",
    "\n",
    "import math\n",
    "radius = float(input('반지름을 입력하세요'))\n",
    "res = radius**2*math.pi\n",
    "print(f'반지름 {radius}인 원의 넓이는 {res}입니다.')"
   ]
  },
  {
   "cell_type": "markdown",
   "metadata": {},
   "source": [
    "## 2번문제\n",
    "\n",
    "2. 태양계는 수성, 금성, 지구, 화성, 목성, 토성, 천왕성, 혜왕성으로 구성됩니다. 영어이름은 Mercury, Venus, Earth, Mars, Jupiter,  Saturn, Uranus, Neptune 입니다.  행성의 한글이름을 입력하면 영어행성명이 출력되는 프로그램을 구현하세요."
   ]
  },
  {
   "cell_type": "markdown",
   "metadata": {},
   "source": []
  },
  {
   "cell_type": "markdown",
   "metadata": {},
   "source": []
  },
  {
   "cell_type": "code",
   "execution_count": 9,
   "metadata": {},
   "outputs": [
    {
     "name": "stdout",
     "output_type": "stream",
     "text": [
      "수성의 영어행성명은 Mercury입니다.\n",
      "금성의 영어행성명은 Jupiter입니다.\n",
      "지구의 영어행성명은 Earth입니다.\n",
      "화성의 영어행성명은 Mars입니다.\n",
      "목성의 영어행성명은 Jupiter입니다.\n",
      "토성의 영어행성명은 Saturn입니다.\n",
      "천왕성의 영어행성명은 Uranus입니다.\n",
      "해왕성의 영어행성명은 Neptune입니다.\n"
     ]
    }
   ],
   "source": [
    "planet_dic = {'수성' : 'Mercury', '금성':'Venus', '지구': 'Earth', '화성':'Mars', '목성':'Jupiter',\n",
    "              '금성':'Jupiter',  '토성':'Saturn', '천왕성':'Uranus', '해왕성':'Neptune'}\n",
    "\n",
    "while True:\n",
    "    kor_planet = input('행성의 이름을 한국어로 입력하세요 [수성, 금성, 지구, 화성, 목성, 토성, 천왕성, 해왕성]')\n",
    "    if kor_planet == 'q' : break\n",
    "    else:\n",
    "        print(f'{kor_planet}의 영어행성명은 {planet_dic[kor_planet]}입니다.')\n",
    "\n"
   ]
  },
  {
   "cell_type": "markdown",
   "metadata": {},
   "source": [
    "## 3번문제\n",
    "\n",
    "3. 입력한 한글 문자열의 단어의 수를 출력하는 프로그램을 구현하세요. 예) 흐르는 강물을 거꾸로 거슬러 오르는 연어들의 = 6  "
   ]
  },
  {
   "cell_type": "code",
   "execution_count": 18,
   "metadata": {},
   "outputs": [
    {
     "name": "stdout",
     "output_type": "stream",
     "text": [
      "6\n"
     ]
    }
   ],
   "source": [
    "str = input('한글 문자열을 입력하세요');\n",
    "word=str.strip().split(' '); # 양쪽 공백을 제거하고 올려야 ' '를 단어로 포함시키지 않는다.\n",
    "print(f'{len(word)}')"
   ]
  },
  {
   "cell_type": "markdown",
   "metadata": {},
   "source": [
    "## 4번문제\n",
    "\n",
    "4. 입력한 수를 거꾸로 출력하는 프로그램을 구현하세요. 예) 1 4 5 9 2 --> 2 9 5 4 1  (exam04.py)"
   ]
  },
  {
   "cell_type": "code",
   "execution_count": 14,
   "metadata": {},
   "outputs": [
    {
     "name": "stdout",
     "output_type": "stream",
     "text": [
      "1 2 3 4 5 12 32 --> 32 12 5 4 3 2 1 "
     ]
    }
   ],
   "source": [
    "str = input('수를 거꾸로 출력하세요');\n",
    "num=str.split(' ');\n",
    "# print(f'입력한 수 :\\t{num}')\n",
    "# print(f'출력된 수 :\\t{num[::-1]}')\n",
    "for i in num:\n",
    "    print(i, end=' ')\n",
    "print('-->', end=' ')\n",
    "for i in num[::-1]:\n",
    "    print(i, end=' ')\n"
   ]
  },
  {
   "cell_type": "markdown",
   "metadata": {},
   "source": [
    "## 5번문제\n",
    "\n",
    "5. 구구단을 수행할 단번호를 입력하면 그 단의 9까지의 결과를 나열하는 프로그램을 입력하세요. 예) 3 --> 3 6 9 12 15 18 21 24 27"
   ]
  },
  {
   "cell_type": "code",
   "execution_count": 27,
   "metadata": {},
   "outputs": [
    {
     "name": "stdout",
     "output_type": "stream",
     "text": [
      "5 --> 5 10 15 20 25 30 35 40 45 "
     ]
    }
   ],
   "source": [
    "num = input('구구단을 수행할 단 번호를 입력하세요')\n",
    "print(f'{num} --> ', end='')\n",
    "for i in range(1, 10):\n",
    "    print(int(num)*i, end=' ')"
   ]
  }
 ],
 "metadata": {
  "interpreter": {
   "hash": "fe3d9237b4a62cd7715eb234158a07f236d8efc42b8ea743ee7cae33e0917df2"
  },
  "kernelspec": {
   "display_name": "Python 3.10.4 64-bit",
   "language": "python",
   "name": "python3"
  },
  "language_info": {
   "codemirror_mode": {
    "name": "ipython",
    "version": 3
   },
   "file_extension": ".py",
   "mimetype": "text/x-python",
   "name": "python",
   "nbconvert_exporter": "python",
   "pygments_lexer": "ipython3",
   "version": "3.10.4"
  },
  "orig_nbformat": 4
 },
 "nbformat": 4,
 "nbformat_minor": 2
}
