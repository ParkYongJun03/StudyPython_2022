{
 "cells": [
  {
   "cell_type": "markdown",
   "metadata": {},
   "source": [
    "# 자료형학습\n",
    "\n",
    "CTRL+Enter를 쳐라\n",
    "\n",
    "1. None형 - 무엇인지 알 수 없음"
   ]
  },
  {
   "cell_type": "code",
   "execution_count": 141,
   "metadata": {},
   "outputs": [
    {
     "name": "stdout",
     "output_type": "stream",
     "text": [
      "False\n",
      "False\n"
     ]
    }
   ],
   "source": [
    "# None (특수형태)\n",
    "print(0 == None)\n",
    "print(2 == None)"
   ]
  },
  {
   "cell_type": "markdown",
   "metadata": {},
   "source": [
    "2. 숫자형 - 가장 많이 쓰이는 자료형"
   ]
  },
  {
   "cell_type": "code",
   "execution_count": 142,
   "metadata": {},
   "outputs": [
    {
     "name": "stdout",
     "output_type": "stream",
     "text": [
      "10\n",
      "3.16\n",
      "0.316\n",
      "3.1645569620253164\n",
      "15\n",
      "42\n",
      "255\n"
     ]
    }
   ],
   "source": [
    "# 숫자형\n",
    "int_val = 10#ctrl + space를 쓰면 스마트 어시스턴스가 나옴\n",
    "print(int_val)\n",
    "float_val = 3.16\n",
    "print(float_val)\n",
    "print(float_val/int_val)\n",
    "print(int_val/float_val)\n",
    "# 2진수\n",
    "bin_val = 0b1111\n",
    "print(bin_val)\n",
    "# 8진수\n",
    "oct_val = 0o52\n",
    "print(oct_val)\n",
    "#16진수\n",
    "hex_val = 0xff\n",
    "print(hex_val)"
   ]
  },
  {
   "cell_type": "code",
   "execution_count": 143,
   "metadata": {},
   "outputs": [
    {
     "name": "stdout",
     "output_type": "stream",
     "text": [
      "<class 'int'>\n",
      "<class 'float'>\n",
      "<class 'int'>\n",
      "<class 'int'>\n"
     ]
    }
   ],
   "source": [
    "# 자료형 확인\n",
    "print(type(int_val))\n",
    "print(type(float_val))\n",
    "print(type(oct_val))\n",
    "print(type(hex_val))\n"
   ]
  },
  {
   "cell_type": "markdown",
   "metadata": {},
   "source": [
    "3. 문자열형 - 출력을 위해  사용"
   ]
  },
  {
   "cell_type": "code",
   "execution_count": 144,
   "metadata": {},
   "outputs": [
    {
     "name": "stdout",
     "output_type": "stream",
     "text": [
      "Life is short, \n",
      "You need Python\n",
      "Hello, Python\n",
      "Hello \n",
      "My name is PYJ\n",
      "Bye\n"
     ]
    }
   ],
   "source": [
    "# 문자열형\n",
    "bruce_eckel = 'Life is short, \\nYou need Python'\n",
    "print(bruce_eckel)\n",
    "greeting = \"Hello, Python\"\n",
    "print(greeting)\n",
    "\n",
    "multi_str_val='''Hello \n",
    "My name is PYJ\n",
    "Bye'''\n",
    "print(multi_str_val)"
   ]
  },
  {
   "cell_type": "markdown",
   "metadata": {},
   "source": [
    "4. 불린 (Boolean)"
   ]
  },
  {
   "cell_type": "code",
   "execution_count": 145,
   "metadata": {},
   "outputs": [
    {
     "name": "stdout",
     "output_type": "stream",
     "text": [
      "False\n",
      "True\n",
      "<class 'bool'>\n"
     ]
    }
   ],
   "source": [
    "# 불린\n",
    "print(1 == 1*2)\n",
    "print(10 == 2*5)\n",
    "\n",
    "print(type(False))"
   ]
  },
  {
   "cell_type": "code",
   "execution_count": 146,
   "metadata": {},
   "outputs": [
    {
     "name": "stdout",
     "output_type": "stream",
     "text": [
      "True\n",
      "True\n",
      "True\n",
      "False\n"
     ]
    }
   ],
   "source": [
    "#불린 계속\n",
    "bl_true = True\n",
    "bl_false = False\n",
    "print(bl_true is True)#타입도 같고 값도 같다.\n",
    "print(bl_true ==  True)#값이 똑같다\n",
    "\n",
    "print(bool(1)) # 0이외의 값은 전부 True\n",
    "print(bool(0)) # 0은 False"
   ]
  },
  {
   "cell_type": "markdown",
   "metadata": {},
   "source": [
    "5. 복합형 <List, Tuple, Dictionary>"
   ]
  },
  {
   "cell_type": "code",
   "execution_count": 147,
   "metadata": {},
   "outputs": [
    {
     "name": "stdout",
     "output_type": "stream",
     "text": [
      "[1, 2, 3, 4, 5, 6, 7, 8, 9, 10]\n",
      "[1, 2, 3, 4, 5, 6, 7, 8, 9, 10, 11, 12, 13, 14, 15, 16, 17, 18, 19, 20, 21, 22, 23, 24, 25, 26, 27, 28, 29, 30, 31, 32, 33, 34, 35, 36, 37, 38, 39, 40, 41, 42, 43, 44, 45, 46, 47, 48, 49, 50, 51, 52, 53, 54, 55, 56, 57, 58, 59, 60, 61, 62, 63, 64, 65, 66, 67, 68, 69, 70, 71, 72, 73, 74, 75, 76, 77, 78, 79, 80, 81, 82, 83, 84, 85, 86, 87, 88, 89, 90, 91, 92, 93, 94, 95, 96, 97, 98, 99, 100]\n",
      "<class 'list'>\n",
      "(1, 2, 3, 4, 5)\n",
      "<class 'tuple'>\n",
      "{'name': 'Peter Parker', 'age': '18', 'weapon': 'web shooter'}\n",
      "<class 'dict'>\n",
      "{1, 2, 3}\n",
      "{'o', 'r', 'H', 'e', 'W', 'l', 'd', ' '}\n"
     ]
    }
   ],
   "source": [
    "#복합형 (자료구조)\n",
    "#리스트\n",
    "b=[1, 2, 3, 4, 5, 6, 7, 8,9, 10]\n",
    "print(b)\n",
    "c=[i for i in range(1, 101)]\n",
    "print(c)\n",
    "print(type(c))\n",
    "#튜플\n",
    "tuple_ary=(1, 2, 3, 4, 5)\n",
    "print(tuple_ary)\n",
    "print(type(tuple_ary))\n",
    "#딕셔너리\n",
    "spiderman = { 'name' : 'Peter Parker', 'age' : '18', 'weapon' : 'web shooter' }\n",
    "print(spiderman)\n",
    "print(type(spiderman))\n",
    "#셋\n",
    "set1 = set([1, 2, 3])\n",
    "set2 = set(\"Hello World\")\n",
    "\n",
    "print(set1)\n",
    "print(set2)\n",
    "\n"
   ]
  },
  {
   "cell_type": "code",
   "execution_count": 148,
   "metadata": {},
   "outputs": [
    {
     "name": "stdout",
     "output_type": "stream",
     "text": [
      "[1, 2, 3, 4, 5]\n",
      "1\n",
      "['H', 2, 3, 4, 5]\n"
     ]
    }
   ],
   "source": [
    "#일반 리스트 값 변경\n",
    "q = [1, 2,3, 4, 5]\n",
    "print(q)\n",
    "print(q[0])\n",
    "q[0] = 'H'\n",
    "print(q)"
   ]
  },
  {
   "cell_type": "code",
   "execution_count": 149,
   "metadata": {},
   "outputs": [
    {
     "name": "stdout",
     "output_type": "stream",
     "text": [
      "hello!\n",
      "h\n",
      "hello!\n",
      "Hello!\n"
     ]
    }
   ],
   "source": [
    "# 문자열(문자의 배열) 값 변경\n",
    "greeting = 'hello!'\n",
    "print(greeting)\n",
    "print(greeting[0])\n",
    "# greeting[0]='H'#에러발생!, 문자열에는 함부로 값을 변경시킬 수 있다. Type Error\n",
    "print(greeting)\n",
    "new_greeting = 'H' + greeting[1:]\n",
    "print(new_greeting)"
   ]
  },
  {
   "cell_type": "markdown",
   "metadata": {},
   "source": [
    "#3. 문자열 포매팅"
   ]
  },
  {
   "cell_type": "code",
   "execution_count": 150,
   "metadata": {},
   "outputs": [
    {
     "name": "stdout",
     "output_type": "stream",
     "text": [
      "I'm so happy for you\n",
      "I'm so happy for you\n",
      "I'm happy four you\n",
      "I'm happy two you\n",
      "I'm happy zero one you\n",
      "I'm happy one zero you\n"
     ]
    }
   ],
   "source": [
    "# 문자열 포매팅\n",
    "a=\"I'm so happy for you\"\n",
    "b='I\\'m so happy for you'\n",
    "print(a)\n",
    "print(b)\n",
    "# 포매팅 구식\n",
    "print('I\\'m happy {0} you' .format('four'))\n",
    "print('I\\'m happy {0} you' .format('two'))\n",
    "print('I\\'m happy {0} {1} you' .format('zero', 'one'))\n",
    "print('I\\'m happy {1} {0} you' .format('zero', 'one'))\n"
   ]
  },
  {
   "cell_type": "code",
   "execution_count": null,
   "metadata": {},
   "outputs": [
    {
     "name": "stdout",
     "output_type": "stream",
     "text": [
      "I'm so happy for you\n",
      "I'm so happy for you\n",
      "I'm happy four you\n",
      "I'm happy two you\n",
      "I'm happy zero one you\n",
      "I'm happy one zero you\n"
     ]
    }
   ],
   "source": [
    "# 문자열 포매팅\n",
    "a=\"I'm so happy for you\"\n",
    "b='I\\'m so happy for you'\n",
    "print(a)\n",
    "print(b)\n",
    "# 포매팅 구식\n",
    "print('I\\'m happy {0} you' .format('four'))\n",
    "print('I\\'m happy {0} you' .format('two'))\n",
    "print('I\\'m happy {0} {1} you' .format('zero', 'one'))\n",
    "print('I\\'m happy {1} {0} you' .format('zero', 'one'))\n"
   ]
  },
  {
   "cell_type": "code",
   "execution_count": 151,
   "metadata": {},
   "outputs": [
    {
     "name": "stdout",
     "output_type": "stream",
     "text": [
      "I'm happy zero one you\n"
     ]
    }
   ],
   "source": [
    "word0='zero'\n",
    "word1='one'\n",
    "print('I\\'m happy {0} {1} you' .format(word0, word1))\n"
   ]
  },
  {
   "cell_type": "code",
   "execution_count": 152,
   "metadata": {},
   "outputs": [
    {
     "name": "stdout",
     "output_type": "stream",
     "text": [
      "제 이름은 박용준입니다. 서울에 살아요\n"
     ]
    }
   ],
   "source": [
    "\n",
    "# 포매팅 신식\n",
    "name='박용준'\n",
    "address='서울'\n",
    "print(f'제 이름은 {name}입니다. {address}에 살아요')\n",
    "#f가 아주 중요함"
   ]
  },
  {
   "cell_type": "code",
   "execution_count": 153,
   "metadata": {},
   "outputs": [
    {
     "name": "stdout",
     "output_type": "stream",
     "text": [
      "3.141592653589793\n",
      "31.416\n",
      "3.142\n"
     ]
    }
   ],
   "source": [
    "import math\n",
    "print (math.pi)\n",
    "print(f'{math.pi*10:.3f}')\n",
    "print('{0:.3f}' .format(math.pi))"
   ]
  },
  {
   "cell_type": "code",
   "execution_count": 154,
   "metadata": {},
   "outputs": [
    {
     "name": "stdout",
     "output_type": "stream",
     "text": [
      "서울시 금천구 가산동\n",
      "['서울시', '금천구', '가산동']\n",
      "['서울시', '금천구', '가산동']\n",
      "['DEST07', '2022-05-24', '10:07:17', 'DESC11', 'NONE']\n"
     ]
    }
   ],
   "source": [
    "#문자열 자르기\n",
    "orign_str ='서울시 금천구 가산동'\n",
    "print(orign_str)\n",
    "print(orign_str.split(' '))\n",
    "print(orign_str.split())\n",
    "\n",
    "mes_str = 'DEST07|2022-05-24|10:07:17|DESC11|NONE'\n",
    "print(mes_str.split('|'))\n",
    "#| = 파이프 키"
   ]
  },
  {
   "cell_type": "code",
   "execution_count": 155,
   "metadata": {},
   "outputs": [
    {
     "name": "stdout",
     "output_type": "stream",
     "text": [
      "Emily Park\n",
      "Liam YJ Park\n"
     ]
    }
   ],
   "source": [
    "# 문자열 치환\n",
    "full_name = 'Liam YJ Park'\n",
    "print(full_name.replace('Liam YJ', 'Emily'))\n",
    "print(full_name)"
   ]
  },
  {
   "cell_type": "code",
   "execution_count": 156,
   "metadata": {},
   "outputs": [
    {
     "name": "stdout",
     "output_type": "stream",
     "text": [
      "['Hey', ' Guys~']\n",
      "['Hey', 'Guys']\n"
     ]
    }
   ],
   "source": [
    "#문자열 공백 제거\n",
    "test ='Hey, Guys~'\n",
    "sp_test = test.split(',')\n",
    "print(sp_test)\n",
    "sp_test[1] = sp_test[1].replace('~', '').strip()\n",
    "print(sp_test)\n"
   ]
  },
  {
   "cell_type": "code",
   "execution_count": 157,
   "metadata": {},
   "outputs": [
    {
     "name": "stdout",
     "output_type": "stream",
     "text": [
      "Hello~    \n",
      "       Hello~\n",
      "Hello~\n",
      "Hello    ~\n"
     ]
    }
   ],
   "source": [
    "print('       Hello~    '.lstrip())\n",
    "print('       Hello~    '.rstrip())\n",
    "print('       Hello~    '.strip())\n",
    "print('       Hello    ~    '.strip())"
   ]
  },
  {
   "cell_type": "code",
   "execution_count": 158,
   "metadata": {},
   "outputs": [
    {
     "name": "stdout",
     "output_type": "stream",
     "text": [
      "0\n",
      "5\n"
     ]
    }
   ],
   "source": [
    "# test ='Hey, Guys~'\n",
    "print(test.index('H'))\n",
    "print(test.index('G'))\n",
    "#print(test.index('g'))  #없는 단어를 치면 ValueError가 발생함"
   ]
  },
  {
   "cell_type": "code",
   "execution_count": 159,
   "metadata": {},
   "outputs": [
    {
     "name": "stdout",
     "output_type": "stream",
     "text": [
      "5\n",
      "-1\n"
     ]
    }
   ],
   "source": [
    "print(test.find('G')) #찾으면 그 배열에서 인덱스를 리턴함\n",
    "print(test.find('g')) #못 찾으면 -1"
   ]
  },
  {
   "cell_type": "code",
   "execution_count": 160,
   "metadata": {},
   "outputs": [
    {
     "name": "stdout",
     "output_type": "stream",
     "text": [
      "2\n"
     ]
    }
   ],
   "source": [
    "print('Hello~'.count('l'))"
   ]
  },
  {
   "cell_type": "code",
   "execution_count": 161,
   "metadata": {},
   "outputs": [
    {
     "name": "stdout",
     "output_type": "stream",
     "text": [
      "LIAM YJ PARK\n",
      "liam yj park\n"
     ]
    }
   ],
   "source": [
    "print(full_name.upper()) #모든 단어를 대문자로 바꿈\n",
    "print(full_name.lower()) #모든 단어를 소문자로 바꿈\n"
   ]
  },
  {
   "cell_type": "markdown",
   "metadata": {},
   "source": [
    "4. 리스트 연산"
   ]
  },
  {
   "cell_type": "code",
   "execution_count": 162,
   "metadata": {},
   "outputs": [
    {
     "name": "stdout",
     "output_type": "stream",
     "text": [
      "5\n",
      "5\n",
      "[1, 2, 3, 4, 5]\n",
      "6\n",
      "7\n",
      "34\n",
      "[1, 2, '3', '4', 5]\n"
     ]
    }
   ],
   "source": [
    "#리스트 연산\n",
    "\n",
    "arr = [1, 2, 3, 4, 5]\n",
    "print(len(arr))\n",
    "print(arr[4])\n",
    "print(arr)\n",
    "\n",
    "print(arr[0] + arr[4])\n",
    "#arr[2] = '3' #에러 발생! 문자열+정수형 XX 문자열 + 문자열은 가능\n",
    "print(arr[2] + arr[3])\n",
    "arr[2] = '3'\n",
    "arr[3] = '4'\n",
    "print(arr[2] + arr[3])\n",
    "print(arr)\n"
   ]
  },
  {
   "cell_type": "code",
   "execution_count": 163,
   "metadata": {},
   "outputs": [
    {
     "name": "stdout",
     "output_type": "stream",
     "text": [
      "[1, 2, ['Hi', 'My', 'Friends']]\n",
      "Friends\n",
      "F\n"
     ]
    }
   ],
   "source": [
    "#2차원 배열\n",
    "arr2= [1, 2 ,['Hi', 'My', 'Friends']]\n",
    "print(arr2)\n",
    "\n",
    "print(arr2[2][2])\n",
    "\n",
    "print(arr2[2][2][0])"
   ]
  },
  {
   "cell_type": "code",
   "execution_count": 164,
   "metadata": {},
   "outputs": [
    {
     "name": "stdout",
     "output_type": "stream",
     "text": [
      "[1, 2]\n",
      "[2, ['Hi', 'My', 'Friends']]\n"
     ]
    }
   ],
   "source": [
    "print(arr2[0:2])\n",
    "print(arr2[-2:])"
   ]
  },
  {
   "cell_type": "code",
   "execution_count": 165,
   "metadata": {},
   "outputs": [
    {
     "name": "stdout",
     "output_type": "stream",
     "text": [
      "[1, 2, ['Hi', 'My', 'Friends']]\n",
      "[1, 2]\n"
     ]
    }
   ],
   "source": [
    "print(arr2)\n",
    "del(arr2[2])\n",
    "print(arr2)"
   ]
  },
  {
   "cell_type": "code",
   "execution_count": 166,
   "metadata": {},
   "outputs": [
    {
     "name": "stdout",
     "output_type": "stream",
     "text": [
      "[1, 2, '3', '4', 5]\n",
      "[1, 2, '3', '4', 5, 9]\n"
     ]
    }
   ],
   "source": [
    "# 리스트 변수 추가\n",
    "print(arr)\n",
    "arr.append(9)\n",
    "print(arr)\n"
   ]
  },
  {
   "cell_type": "code",
   "execution_count": 167,
   "metadata": {},
   "outputs": [
    {
     "name": "stdout",
     "output_type": "stream",
     "text": [
      "[1, 2, '132', '3', '4', 5, 9]\n"
     ]
    }
   ],
   "source": [
    "arr.insert(2, '132'); # 첫번째 전달자는 idx, 두번째 전달자는 Value\n",
    "print(arr)"
   ]
  },
  {
   "cell_type": "code",
   "execution_count": 168,
   "metadata": {},
   "outputs": [
    {
     "name": "stdout",
     "output_type": "stream",
     "text": [
      "[1, 2, '132', '3', '4', 5]\n"
     ]
    }
   ],
   "source": [
    "arr.pop()\n",
    "print(arr)"
   ]
  },
  {
   "cell_type": "markdown",
   "metadata": {},
   "source": [
    "5. 튜플 연산"
   ]
  },
  {
   "cell_type": "code",
   "execution_count": 169,
   "metadata": {},
   "outputs": [
    {
     "name": "stdout",
     "output_type": "stream",
     "text": [
      "(1, 2, 3, 4, 5)\n"
     ]
    }
   ],
   "source": [
    "tup1 = (1, 2, 3, 4, 5)\n",
    "print(tup1)"
   ]
  },
  {
   "cell_type": "code",
   "execution_count": 170,
   "metadata": {},
   "outputs": [
    {
     "name": "stdout",
     "output_type": "stream",
     "text": [
      "5\n"
     ]
    }
   ],
   "source": [
    "print(tup1[4])"
   ]
  },
  {
   "cell_type": "code",
   "execution_count": 171,
   "metadata": {},
   "outputs": [],
   "source": [
    "# tup1[0] = 7 # 에러발생! 튜플은 데이터를 바꿀 수 없다."
   ]
  },
  {
   "cell_type": "markdown",
   "metadata": {},
   "source": [
    "6. 딕셔너리 연산"
   ]
  },
  {
   "cell_type": "code",
   "execution_count": 172,
   "metadata": {},
   "outputs": [
    {
     "name": "stdout",
     "output_type": "stream",
     "text": [
      "{1: 'a'}\n"
     ]
    }
   ],
   "source": [
    "dic_a = {1: 'a'}\n",
    "print(dic_a)"
   ]
  },
  {
   "cell_type": "code",
   "execution_count": 173,
   "metadata": {},
   "outputs": [
    {
     "name": "stdout",
     "output_type": "stream",
     "text": [
      "{1: 'a', 2: 'b'}\n"
     ]
    }
   ],
   "source": [
    "dic_a[2] = 'b'\n",
    "print(dic_a)"
   ]
  },
  {
   "cell_type": "code",
   "execution_count": 175,
   "metadata": {},
   "outputs": [
    {
     "name": "stdout",
     "output_type": "stream",
     "text": [
      "{'name': 'Peter parker', 'armor': 'Web shooter', 'age': 20}\n"
     ]
    }
   ],
   "source": [
    "spider_man = {'name': 'Peter parker', 'armor':'Web shooter', 'age':20}\n",
    "print(spider_man)"
   ]
  },
  {
   "cell_type": "code",
   "execution_count": 176,
   "metadata": {},
   "outputs": [
    {
     "name": "stdout",
     "output_type": "stream",
     "text": [
      "Peter parker\n",
      "True\n"
     ]
    }
   ],
   "source": [
    "print(spider_man['name'])\n",
    "print('age' in spider_man)"
   ]
  }
 ],
 "metadata": {
  "interpreter": {
   "hash": "26de051ba29f2982a8de78e945f0abaf191376122a1563185a90213a26c5da77"
  },
  "kernelspec": {
   "display_name": "Python 3.10.4 64-bit",
   "language": "python",
   "name": "python3"
  },
  "language_info": {
   "codemirror_mode": {
    "name": "ipython",
    "version": 3
   },
   "file_extension": ".py",
   "mimetype": "text/x-python",
   "name": "python",
   "nbconvert_exporter": "python",
   "pygments_lexer": "ipython3",
   "version": "3.10.4"
  },
  "orig_nbformat": 4
 },
 "nbformat": 4,
 "nbformat_minor": 2
}
