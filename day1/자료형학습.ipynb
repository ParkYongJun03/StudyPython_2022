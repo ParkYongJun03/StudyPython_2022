{
 "cells": [
  {
   "cell_type": "markdown",
   "metadata": {},
   "source": [
    "# 자료형학습\n",
    "\n",
    "CTRL+Enter를 쳐라\n",
    "\n",
    "1. None형 - 무엇인지 알 수 없음"
   ]
  },
  {
   "cell_type": "code",
   "execution_count": null,
   "metadata": {},
   "outputs": [
    {
     "name": "stdout",
     "output_type": "stream",
     "text": [
      "False\n",
      "False\n"
     ]
    }
   ],
   "source": [
    "# None (특수형태)\n",
    "print(0 == None)\n",
    "print(2 == None)"
   ]
  },
  {
   "cell_type": "markdown",
   "metadata": {},
   "source": [
    "2. 숫자형 - 가장 많이 쓰이는 자료형"
   ]
  },
  {
   "cell_type": "code",
   "execution_count": 21,
   "metadata": {},
   "outputs": [
    {
     "name": "stdout",
     "output_type": "stream",
     "text": [
      "10\n",
      "3.16\n",
      "0.316\n",
      "3.1645569620253164\n",
      "15\n",
      "42\n",
      "255\n"
     ]
    }
   ],
   "source": [
    "# 숫자형\n",
    "int_val = 10#ctrl + space를 쓰면 스마트 어시스턴스가 나옴\n",
    "print(int_val)\n",
    "float_val = 3.16\n",
    "print(float_val)\n",
    "print(float_val/int_val)\n",
    "print(int_val/float_val)\n",
    "# 2진수\n",
    "bin_val = 0b1111\n",
    "print(bin_val)\n",
    "# 8진수\n",
    "oct_val = 0o52\n",
    "print(oct_val)\n",
    "#16진수\n",
    "hex_val = 0xff\n",
    "print(hex_val)"
   ]
  },
  {
   "cell_type": "code",
   "execution_count": 23,
   "metadata": {},
   "outputs": [
    {
     "name": "stdout",
     "output_type": "stream",
     "text": [
      "<class 'int'>\n",
      "<class 'float'>\n",
      "<class 'int'>\n",
      "<class 'int'>\n"
     ]
    }
   ],
   "source": [
    "# 자료형 확인\n",
    "print(type(int_val))\n",
    "print(type(float_val))\n",
    "print(type(oct_val))\n",
    "print(type(hex_val))\n"
   ]
  },
  {
   "cell_type": "markdown",
   "metadata": {},
   "source": [
    "3. 문자열형 - 출력을 위해  사용"
   ]
  },
  {
   "cell_type": "code",
   "execution_count": 31,
   "metadata": {},
   "outputs": [
    {
     "name": "stdout",
     "output_type": "stream",
     "text": [
      "Life is short, \n",
      "You need Python\n",
      "Hello, Python\n",
      "Hello \n",
      "My name is PYJ\n",
      "Bye\n"
     ]
    }
   ],
   "source": [
    "# 문자열형\n",
    "bruce_eckel = 'Life is short, \\nYou need Python'\n",
    "print(bruce_eckel)\n",
    "greeting = \"Hello, Python\"\n",
    "print(greeting)\n",
    "\n",
    "multi_str_val='''Hello \n",
    "My name is PYJ\n",
    "Bye'''\n",
    "print(multi_str_val)"
   ]
  }
 ],
 "metadata": {
  "interpreter": {
   "hash": "26de051ba29f2982a8de78e945f0abaf191376122a1563185a90213a26c5da77"
  },
  "kernelspec": {
   "display_name": "Python 3.10.4 64-bit",
   "language": "python",
   "name": "python3"
  },
  "language_info": {
   "codemirror_mode": {
    "name": "ipython",
    "version": 3
   },
   "file_extension": ".py",
   "mimetype": "text/x-python",
   "name": "python",
   "nbconvert_exporter": "python",
   "pygments_lexer": "ipython3",
   "version": "3.10.4"
  },
  "orig_nbformat": 4
 },
 "nbformat": 4,
 "nbformat_minor": 2
}
