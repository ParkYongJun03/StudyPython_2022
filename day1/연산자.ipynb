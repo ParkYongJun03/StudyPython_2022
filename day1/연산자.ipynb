{
 "cells": [
  {
   "cell_type": "markdown",
   "metadata": {},
   "source": [
    "# 연산자 학습\n",
    "1. 숫자 연산"
   ]
  },
  {
   "cell_type": "code",
   "execution_count": 11,
   "metadata": {},
   "outputs": [
    {
     "name": "stdout",
     "output_type": "stream",
     "text": [
      "15\n",
      "7\n",
      "44\n",
      "2.75\n",
      "2\n",
      "3\n"
     ]
    }
   ],
   "source": [
    "# 연산자\n",
    "a= 11; b= 4\n",
    "print(a+b)\n",
    "print(a-b)\n",
    "print(a*b)\n",
    "print(a/b)\n",
    "print(a//b)\n",
    "print(a % b)"
   ]
  },
  {
   "cell_type": "code",
   "execution_count": 17,
   "metadata": {},
   "outputs": [
    {
     "name": "stdout",
     "output_type": "stream",
     "text": [
      "14641\n",
      "14641\n"
     ]
    },
    {
     "ename": "ZeroDivisionError",
     "evalue": "division by zero",
     "output_type": "error",
     "traceback": [
      "\u001b[1;31m---------------------------------------------------------------------------\u001b[0m",
      "\u001b[1;31mZeroDivisionError\u001b[0m                         Traceback (most recent call last)",
      "\u001b[1;32mc:\\Repository\\StudyPython_2022\\day1\\연산자.ipynb Cell 3'\u001b[0m in \u001b[0;36m<cell line: 6>\u001b[1;34m()\u001b[0m\n\u001b[0;32m      <a href='vscode-notebook-cell:/c%3A/Repository/StudyPython_2022/day1/%EC%97%B0%EC%82%B0%EC%9E%90.ipynb#ch0000003?line=3'>4</a>\u001b[0m \u001b[39m#경고 예외발생!\u001b[39;00m\n\u001b[0;32m      <a href='vscode-notebook-cell:/c%3A/Repository/StudyPython_2022/day1/%EC%97%B0%EC%82%B0%EC%9E%90.ipynb#ch0000003?line=4'>5</a>\u001b[0m c\u001b[39m=\u001b[39m\u001b[39m0\u001b[39m\n\u001b[1;32m----> <a href='vscode-notebook-cell:/c%3A/Repository/StudyPython_2022/day1/%EC%97%B0%EC%82%B0%EC%9E%90.ipynb#ch0000003?line=5'>6</a>\u001b[0m \u001b[39mprint\u001b[39m(a\u001b[39m/\u001b[39;49mc)\n",
      "\u001b[1;31mZeroDivisionError\u001b[0m: division by zero"
     ]
    }
   ],
   "source": [
    "print(a**b)#a*a*a*a\n",
    "print(a*a*a*a)\n",
    "\n",
    "#경고 예외발생!\n",
    "c=0\n",
    "print(a/c)"
   ]
  },
  {
   "cell_type": "markdown",
   "metadata": {},
   "source": [
    "2. 문자열 연산"
   ]
  },
  {
   "cell_type": "code",
   "execution_count": 27,
   "metadata": {},
   "outputs": [
    {
     "name": "stdout",
     "output_type": "stream",
     "text": [
      "Hello, world\n",
      "worldworldworldworldworld\n"
     ]
    }
   ],
   "source": [
    "#문자열 연산\n",
    "first = 'Hello,'\n",
    "second = 'world'\n",
    "print (first+\" \"+second)\n",
    "#print (second + 5) # 안 됨\n",
    "print(second * 5)\n",
    "#print(first-second) # 안 됨\n",
    "#print(first/second) # 안 됨\n",
    "#print(first/2) # 안 됨"
   ]
  },
  {
   "cell_type": "code",
   "execution_count": 41,
   "metadata": {},
   "outputs": [
    {
     "name": "stdout",
     "output_type": "stream",
     "text": [
      "H\n",
      "e\n",
      "l\n",
      "l\n",
      "o\n",
      ",\n",
      ",\n",
      "6\n",
      "H\n"
     ]
    }
   ],
   "source": [
    "# 문자열\n",
    "print(first[0])\n",
    "print(first[1])\n",
    "print(first[2])\n",
    "print(first[3])\n",
    "print(first[4])\n",
    "print(first[5])\n",
    "print(first[-1])\n",
    "print(len(first))\n",
    "print(first[-6])"
   ]
  },
  {
   "cell_type": "code",
   "execution_count": 77,
   "metadata": {},
   "outputs": [
    {
     "name": "stdout",
     "output_type": "stream",
     "text": [
      "2022-05-23 17:33:45\n",
      "['2022-05-23', '17:33:45']\n",
      "2022-05-23\n",
      "17:33:45\n",
      "<class 'list'>\n",
      "2022\n",
      "\n",
      "2022\n",
      "05\n",
      "23\n",
      "17\n",
      "33\n",
      "45\n",
      "\n",
      "45\n",
      "33\n"
     ]
    }
   ],
   "source": [
    "#현재 시간\n",
    "current = '2022-05-23 17:33:45'\n",
    "print(current)\n",
    "curr_date = current.split(' ')\n",
    "print(curr_date)\n",
    "print(curr_date[0])\n",
    "print(curr_date[1])\n",
    "print(type(curr_date))\n",
    "print(curr_date[0][:4]+'\\n')\n",
    "\n",
    "year=current[0:4] # year=current[:4]\n",
    "month=current[5:7]\n",
    "day=current[8:10]\n",
    "hour=current[11:13]\n",
    "min=current[14:16]\n",
    "sec=current[17:19]#  sec=current[17:]\n",
    "print(year)\n",
    "print(month)\n",
    "print(day)\n",
    "print(hour)\n",
    "print(min)\n",
    "print(sec+'\\n')\n",
    "print(current[-2:])\n",
    "print(current[-5:-3])"
   ]
  }
 ],
 "metadata": {
  "interpreter": {
   "hash": "26de051ba29f2982a8de78e945f0abaf191376122a1563185a90213a26c5da77"
  },
  "kernelspec": {
   "display_name": "Python 3.10.4 64-bit",
   "language": "python",
   "name": "python3"
  },
  "language_info": {
   "codemirror_mode": {
    "name": "ipython",
    "version": 3
   },
   "file_extension": ".py",
   "mimetype": "text/x-python",
   "name": "python",
   "nbconvert_exporter": "python",
   "pygments_lexer": "ipython3",
   "version": "3.10.4"
  },
  "orig_nbformat": 4
 },
 "nbformat": 4,
 "nbformat_minor": 2
}
