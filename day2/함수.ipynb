{
 "cells": [
  {
   "cell_type": "markdown",
   "metadata": {},
   "source": [
    "# 함수\n",
    "\n",
    "1.함수정의"
   ]
  },
  {
   "cell_type": "code",
   "execution_count": 24,
   "metadata": {},
   "outputs": [],
   "source": [
    "def add(x, y):\n",
    "    return x+y\n",
    "def print_add(x, y):\n",
    "    print(x+y)\n",
    "def print_hello():\n",
    "    print('Hello, world!')\n",
    "def ret_hello():\n",
    "    return 'Hello'"
   ]
  },
  {
   "cell_type": "code",
   "execution_count": 27,
   "metadata": {},
   "outputs": [
    {
     "name": "stdout",
     "output_type": "stream",
     "text": [
      "12\n",
      "12\n",
      "Hello, world!\n",
      "Hello\n"
     ]
    }
   ],
   "source": [
    "print(add(7, 5))\n",
    "print_add(7, 5)\n",
    "print_hello()\n",
    "val=ret_hello()\n",
    "print(val);"
   ]
  },
  {
   "cell_type": "code",
   "execution_count": 32,
   "metadata": {},
   "outputs": [
    {
     "name": "stdout",
     "output_type": "stream",
     "text": [
      "0.5\n"
     ]
    }
   ],
   "source": [
    "def add_y(x, y=1):#default로 y=1로 설정, 뒤에서부터 default 설정 가능함\n",
    "    print(x/y)\n",
    "add_y(y=2, x=1) #전달인자의 순서를 바꿔도됨"
   ]
  },
  {
   "cell_type": "code",
   "execution_count": 37,
   "metadata": {},
   "outputs": [
    {
     "name": "stdout",
     "output_type": "stream",
     "text": [
      "21\n",
      "55\n"
     ]
    }
   ],
   "source": [
    "# 매개변수가 가변일때\n",
    "def adds(*args):\n",
    "    res = 0\n",
    "    for i in args:\n",
    "        res += i\n",
    "    return res\n",
    "\n",
    "print(adds(1, 2, 3, 4, 5, 6))\n",
    "print(adds(1, 2, 3, 4, 5, 6, 7, 8, 9, 10))"
   ]
  },
  {
   "cell_type": "code",
   "execution_count": 41,
   "metadata": {},
   "outputs": [
    {
     "name": "stdout",
     "output_type": "stream",
     "text": [
      "8\n",
      "2.0\n"
     ]
    }
   ],
   "source": [
    "def mul_and_divide(x, y):\n",
    "    return (x*y, x/y)\n",
    "(num_mul, num_divide)=mul_and_divide(4, 2)\n",
    "print(num_mul)\n",
    "print(num_divide)"
   ]
  },
  {
   "cell_type": "code",
   "execution_count": 48,
   "metadata": {},
   "outputs": [
    {
     "name": "stdout",
     "output_type": "stream",
     "text": [
      "(55, -55, 3628800, 2.7557319223985894e-07)\n"
     ]
    }
   ],
   "source": [
    "def all_calc(*args):\n",
    "    res_mul = 1\n",
    "    res_add = 0\n",
    "    res_sub = 0\n",
    "    res_div = 1\n",
    "    for i in args:\n",
    "        res_mul *= i\n",
    "        res_add += i\n",
    "        res_sub -= i\n",
    "        res_div /= i\n",
    "    return (res_add, res_sub, res_mul, res_div)\n",
    "asd=(res1, res2, res3, res4)=all_calc(1, 2, 3, 4, 5, 6, 7, 8, 9, 10)\n",
    "print(asd)"
   ]
  },
  {
   "cell_type": "markdown",
   "metadata": {},
   "source": [
    "1. 매개변수가 없고, 리턴문이 없는 경우\n",
    "2. 매개변수가 없고, 리턴문은 있는 경우\n",
    "3. 매개변수가 있고, 리턴문이 없는 경우\n",
    "4. 매개변수가 있고, 리턴문도 있는 경우\n",
    "5. 매개변수의 갯수가 가변인 경우\n",
    "6. 리턴되는 결과가 1건 이상인 경우"
   ]
  },
  {
   "cell_type": "code",
   "execution_count": 50,
   "metadata": {},
   "outputs": [
    {
     "name": "stdout",
     "output_type": "stream",
     "text": [
      "1\n"
     ]
    }
   ],
   "source": [
    "b=1\n",
    "def vartestb():\n",
    "    global b # 전역변수를 함수내에서 사용할래!\n",
    "\n",
    "vartestb()\n",
    "print(b)"
   ]
  }
 ],
 "metadata": {
  "interpreter": {
   "hash": "26de051ba29f2982a8de78e945f0abaf191376122a1563185a90213a26c5da77"
  },
  "kernelspec": {
   "display_name": "Python 3.10.4 64-bit",
   "language": "python",
   "name": "python3"
  },
  "language_info": {
   "codemirror_mode": {
    "name": "ipython",
    "version": 3
   },
   "file_extension": ".py",
   "mimetype": "text/x-python",
   "name": "python",
   "nbconvert_exporter": "python",
   "pygments_lexer": "ipython3",
   "version": "3.10.4"
  },
  "orig_nbformat": 4
 },
 "nbformat": 4,
 "nbformat_minor": 2
}
