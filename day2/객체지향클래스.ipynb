{
 "cells": [
  {
   "cell_type": "markdown",
   "metadata": {},
   "source": [
    "# 객체지향, 클래스\n",
    "1. 객체지향 개념\n",
    "명사 (속성 -> 속성변수)와 동사 (행위 -> 함수)의 조합"
   ]
  },
  {
   "cell_type": "code",
   "execution_count": 28,
   "metadata": {},
   "outputs": [],
   "source": [
    "class Person:\n",
    "    name = ''\n",
    "    age = 0\n",
    "    def __init__(self):#생성자를 만드는 함수\n",
    "        print('Person 생성!!')\n",
    "    def print_name(self):\n",
    "        print(f'제 이름은 {self.name}입니다.')\n",
    "    def get_age(self):\n",
    "        return self.age"
   ]
  },
  {
   "cell_type": "code",
   "execution_count": 29,
   "metadata": {},
   "outputs": [
    {
     "name": "stdout",
     "output_type": "stream",
     "text": [
      "Person 생성!!\n",
      "<__main__.Person object at 0x0000026B2F51B970>\n",
      "<class '__main__.Person'>\n"
     ]
    }
   ],
   "source": [
    "me = Person()# Person을 생성자라고 부른다\n",
    "print(me)\n",
    "print(type(me))"
   ]
  },
  {
   "cell_type": "code",
   "execution_count": 30,
   "metadata": {},
   "outputs": [
    {
     "name": "stdout",
     "output_type": "stream",
     "text": [
      "홍길동\n",
      "제 이름은 홍길동입니다.\n",
      "홍길동 의 나이는 990 세"
     ]
    }
   ],
   "source": [
    "me.name = '홍길동'\n",
    "print(me.name)\n",
    "me.print_name()\n",
    "me.age=990\n",
    "print(me.name, '의 나이는', me.get_age(), '세', end='');"
   ]
  },
  {
   "cell_type": "code",
   "execution_count": 40,
   "metadata": {},
   "outputs": [],
   "source": [
    "# 생성자 수정 클래스 Person2\n",
    "class Person2:\n",
    "    name = ''\n",
    "    age = 0\n",
    "    def __init__(self, name, age):#생성자를 만드는 함수\n",
    "        print('Person 생성!!')\n",
    "        self.name = name\n",
    "        self.age = age\n",
    "    def __str__(self): #print를 변경해주는 매직 메서드\n",
    "        return f'이름 : {self.name}, 나이 : {self.age}'\n",
    "    def print_name(self):\n",
    "        print(f'제 이름은 {self.name}입니다.')\n",
    "    def print_age(self):\n",
    "        print(f'제 나이는 {self.age}입니다')"
   ]
  },
  {
   "cell_type": "code",
   "execution_count": 41,
   "metadata": {},
   "outputs": [
    {
     "name": "stdout",
     "output_type": "stream",
     "text": [
      "Person 생성!!\n",
      "제 이름은 박용준입니다.\n",
      "제 나이는 27입니다\n",
      "이름 : 박용준, 나이 : 27\n"
     ]
    }
   ],
   "source": [
    "you = Person2('박용준', 27)\n",
    "you.print_name()\n",
    "you.print_age()\n",
    "\n",
    "print(you)"
   ]
  }
 ],
 "metadata": {
  "interpreter": {
   "hash": "26de051ba29f2982a8de78e945f0abaf191376122a1563185a90213a26c5da77"
  },
  "kernelspec": {
   "display_name": "Python 3.10.4 64-bit",
   "language": "python",
   "name": "python3"
  },
  "language_info": {
   "codemirror_mode": {
    "name": "ipython",
    "version": 3
   },
   "file_extension": ".py",
   "mimetype": "text/x-python",
   "name": "python",
   "nbconvert_exporter": "python",
   "pygments_lexer": "ipython3",
   "version": "3.10.4"
  },
  "orig_nbformat": 4
 },
 "nbformat": 4,
 "nbformat_minor": 2
}
